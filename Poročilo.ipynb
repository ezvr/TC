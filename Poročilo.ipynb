{
 "cells": [
  {
   "cell_type": "markdown",
   "metadata": {},
   "source": [
    "# Meteorološki podatki "
   ]
  },
  {
   "cell_type": "markdown",
   "metadata": {},
   "source": [
    "Najprej potrebujemo pridobiti meteorološke podatke na lokaciji stavbe.\n",
    "Le ta stoji v Ljubljani, zato so GK koordinate sledeče: Y = 462645 m, X = 102486 m, pridobljeni podatki pa sledeči:\n",
    "\n",
    " - projektna temperatura okolice  $\\theta_{e, ref}$: **-13°C**\n",
    " - povprečna letna temperatura okolice $\\theta_{e, ann}$: **9.9°C**\n",
    " - povprečna mesečna dnevna energija sončnega obsevanja $G_{sol,i,d}$: **1121 kWh/m$^{2}$**\n",
    " - povprečna dnevna temperatura okolice $\\theta_{e, d}$: Izračunana v naslednjih korakih."
   ]
  },
  {
   "cell_type": "code",
   "execution_count": 1,
   "metadata": {},
   "outputs": [],
   "source": [
    "thetaeref = -13 #°C\n",
    "thetaeann = 9.9 #°C\n",
    "gsolid = 1121 #kWh/m2"
   ]
  },
  {
   "cell_type": "markdown",
   "metadata": {},
   "source": [
    "Uvozimo potrebne module"
   ]
  },
  {
   "cell_type": "code",
   "execution_count": 2,
   "metadata": {},
   "outputs": [],
   "source": [
    "import matplotlib.pyplot as plt\n",
    "import numpy as np\n",
    "#Ne želimo znanstvenega zapisa števil\n",
    "np.set_printoptions(suppress=True)"
   ]
  },
  {
   "cell_type": "markdown",
   "metadata": {},
   "source": [
    "Uvozimo podatke za tipično leto.\n",
    "Podatki so v CSV datoteki, katero je treba obdelati. Le to storimo s programom, ki je v modulu zModel. "
   ]
  },
  {
   "cell_type": "code",
   "execution_count": 3,
   "metadata": {},
   "outputs": [],
   "source": [
    "import zModel"
   ]
  },
  {
   "cell_type": "markdown",
   "metadata": {},
   "source": [
    "Funkcija `temperaturesByTime` obdela CSV datoteko, ter vrne podatke urejene v temperaturne razrede. Temperaturni razredi so nastavljeni kot seznam dvojic (npr: `[(-20,-19),...,(35,36)]`). Manjše kot nastavimo razrede, bolj natančen bo izračun.\n",
    "\n",
    "Za naš primer nastavimo razrede temperatur od `-20°C` do `18°C` s korakom 1 stopinje."
   ]
  },
  {
   "cell_type": "code",
   "execution_count": 4,
   "metadata": {},
   "outputs": [],
   "source": [
    "razredi = list(map(lambda x: ( x, x+1 ) , list(range(-20,18,1))))"
   ]
  },
  {
   "cell_type": "markdown",
   "metadata": {},
   "source": [
    "Pokažemo lahko prvi in zadnji izbrani razred."
   ]
  },
  {
   "cell_type": "code",
   "execution_count": 71,
   "metadata": {},
   "outputs": [
    {
     "name": "stdout",
     "output_type": "stream",
     "text": [
      "Prvi razred je: (-20, -19)°C. Zadnji razred je: (17, 18)°C.\n"
     ]
    }
   ],
   "source": [
    "print(f'Prvi razred je: {razredi[0]}°C. Zadnji razred je: {razredi[-1]}°C.')"
   ]
  },
  {
   "cell_type": "markdown",
   "metadata": {},
   "source": [
    "Funkciji `temperaturesByTime` je potrebno podati še CSV datoteko. Le ta se mora nahajati v isti mapi kot zModel.py. Za lokacijo v tem poročilu je izbrano merilno mesto Letališče Jožeta Pučnika Ljubljana."
   ]
  },
  {
   "cell_type": "code",
   "execution_count": 72,
   "metadata": {},
   "outputs": [],
   "source": [
    "CSVfile = 'meteorological_year_letalisce-jp-ljubljana-1.csv'"
   ]
  },
  {
   "cell_type": "markdown",
   "metadata": {},
   "source": [
    "Ena od vrednosti, ki jih metoda `temperaturesByTime` vrne je seznam povprečnih temperatur v vsakem razredu. Te temperature bodo potrebne v prihodnih izračunih. Prikažemo lahko povprečno temperaturo za prvi in zadnji razred."
   ]
  },
  {
   "cell_type": "code",
   "execution_count": 82,
   "metadata": {},
   "outputs": [
    {
     "name": "stdout",
     "output_type": "stream",
     "text": [
      "Povprečna temperatura prvega razreda je: -19.5°C. Povprečna temperatura zadnjega razreda je: 17.5°C.\n"
     ]
    }
   ],
   "source": [
    "thetaed = np.array(zModel.temperaturesByTime(razredi, CSVfile, returnShape='temperature'))\n",
    "print(f'Povprečna temperatura prvega razreda je: {thetaed[0]}°C. Povprečna temperatura zadnjega razreda je: {thetaed[-1]}°C.')"
   ]
  },
  {
   "cell_type": "markdown",
   "metadata": {},
   "source": [
    "Ena od vrednosti, ki jih metoda `temperaturesByTime` vrne je tudi seznam števila dni v vsakem  razredu. To število bomo v prihodnjih izračunih uporabili za določitev skupne rabe energije v vsakem razredu. Prikažemo lahko število dni v prvem in zadnjem razredu."
   ]
  },
  {
   "cell_type": "code",
   "execution_count": 84,
   "metadata": {},
   "outputs": [
    {
     "name": "stdout",
     "output_type": "stream",
     "text": [
      "Število dni v prvem razredu je: 0dni. Število dni v zadnjem razredu je: 14dni.\n"
     ]
    }
   ],
   "source": [
    "thetaedtime = np.array(zModel.temperaturesByTime(razredi, CSVfile,returnShape='time'))\n",
    "print(f'Število dni v prvem razredu je: {thetaedtime[0]}dni. Število dni v zadnjem razredu je: {thetaedtime[-1]}dni.')"
   ]
  },
  {
   "cell_type": "markdown",
   "metadata": {},
   "source": [
    "Prikažemo lahko diagram količin temperatur po razredih. Na Y osi vidimo število dni v vsakem razredu, na X osi pa vidimo temperaturni razred."
   ]
  },
  {
   "cell_type": "code",
   "execution_count": 75,
   "metadata": {},
   "outputs": [
    {
     "data": {
      "image/png": "[encoded data removed]",
      "text/plain": [
       "<Figure size 432x288 with 1 Axes>"
      ]
     },
     "metadata": {},
     "output_type": "display_data"
    }
   ],
   "source": [
    "def displayTemperatureByTime():\n",
    "    # Get the data\n",
    "    data = zModel.temperaturesByTime(razredi,CSVfile)\n",
    "    x = list(map(lambda x: x[0], data))\n",
    "    y = list(map(lambda x: x[1], data))\n",
    "    # Create bars\n",
    "    plt.bar(x, y)\n",
    "    # Add axis titles\n",
    "    plt.xlabel('Zunanja temperatura', fontsize='13', horizontalalignment='center')\n",
    "    plt.ylabel('Število dni', fontsize='13', horizontalalignment='center')\n",
    "    plt.title('Diagram povprečnih dnevnih temperatur', fontsize='13')\n",
    "    # Add design\n",
    "    plt.style.use('seaborn-white')\n",
    "    # Show graphic\n",
    "    plt.show()\n",
    "displayTemperatureByTime()"
   ]
  },
  {
   "cell_type": "markdown",
   "metadata": {},
   "source": [
    "# Notranja projektna temperatura\n",
    "\n",
    "Določiti moramo notranjo projektno temperaturo. Za stanovanje je $\\theta_{i, ref}$: **20°C**"
   ]
  },
  {
   "cell_type": "code",
   "execution_count": 8,
   "metadata": {},
   "outputs": [],
   "source": [
    "thetairef = 20 #°C"
   ]
  },
  {
   "cell_type": "markdown",
   "metadata": {},
   "source": [
    "# Izračun potrebne toplotne moči toplotne črpalke\n",
    "\n",
    "Sedaj, ko smo določili vse robne temperaturne pogoje, lahko začnemo z izračunom toplotnih moči. Če želimo določiti moč toplotne črpalke $\\dot{Q}_{hp}$ moramo najprej določiti še toplotno moč potrebno za ogrevanje stavbe $\\dot{Q}_{h}$, toplotno moč za pripravo STV $\\dot{Q}_{stv}$ in moč drugih odjemov $\\dot{Q}_{dod}$\n",
    "\n",
    "Skupno moč tako določimo s sledečo enačbo, v kateri nastopi še korekcijski faktor akumulacije toplote:\n",
    "\n",
    "$$\\dot{Q}_{hp} =  \\dot{Q}_{hp} * f_{h} + \\dot{Q}_{stv} + \\dot{Q}_{dod}$$\n",
    "\n",
    "Preden določimo toplotno moč, moramo določiti vse člene zgornje enačbe.\n",
    "\n",
    "## Korekcijski faktor\n",
    "Izbran je korekcijski faktor $f_{h} = 0.93$ za opečnato stanovanjsko hišo iz 1970.\n",
    "\n"
   ]
  },
  {
   "cell_type": "code",
   "execution_count": 9,
   "metadata": {},
   "outputs": [],
   "source": [
    "fh = 0.93"
   ]
  },
  {
   "cell_type": "markdown",
   "metadata": {},
   "source": [
    "## Toplotna moč za ogrevanje stavbe\n",
    "Toplotno moč za ogrevanje stavbe $\\dot{Q}_{h}$ se izračuna kot seštevek transmisijskih, ventilacijskih in dodatnih toplotnih izgub:\n",
    "\n",
    "$$\\dot{Q}_{h} = \\dot{Q}_{t} + \\dot{Q}_{v}+ \\dot{Q}_{h,dod}$$\n",
    "\n",
    "\n",
    "### Transmisijske toplotne izgube in ventilacijske izgube\n",
    "Transmisijske toplotne izgube so bile določene s pomočjo programa Gradbena fizika URSA 4, v okviru predmeta Raba Energije. V naslednji sliki so prikazani izračunani koeficijenti transmisijskih in ventilacijskih toplotnih izgub $H_{t}$ in $H_{v}$.\n",
    "\n",
    "<img src=\"ursa_izracun.png\">\n",
    "\n",
    "Določimo lahko torej:\n",
    "\n",
    "$$ H_{t} = 257.6 W/K $$\n",
    "$$ H_{v} = 107.7 W/K $$\n",
    "$$ H = 365.3 W/K $$"
   ]
  },
  {
   "cell_type": "code",
   "execution_count": 10,
   "metadata": {},
   "outputs": [],
   "source": [
    "h = 365.3/1000 #kW/K"
   ]
  },
  {
   "cell_type": "markdown",
   "metadata": {},
   "source": [
    "Za določitev moči uporabimo enačbo:\n",
    "\n",
    "$$\\dot{Q}_{h} = H*(\\theta_{i,ref} - \\theta_{e,ref})$$"
   ]
  },
  {
   "cell_type": "code",
   "execution_count": 11,
   "metadata": {},
   "outputs": [
    {
     "name": "stdout",
     "output_type": "stream",
     "text": [
      "Toplotna moč za ogrevanje stavbe je: 12kW\n"
     ]
    }
   ],
   "source": [
    "dQh = h * (thetairef - thetaeref)\n",
    "print(f'Toplotna moč za ogrevanje stavbe je: {round(dQh)}kW')"
   ]
  },
  {
   "cell_type": "markdown",
   "metadata": {},
   "source": [
    "## Toplotna moč za pripravo sanitarne tople vode\n",
    "### Dnevna potrebna energija\n",
    "Sedaj moramo določiti še toplotno moč potrebno za pripravo STV. Predpostavimo da uporabljamo zalogovnik STV. V enačbi za določitev dnevne energije STV $Q_{stv}$ upoštevamo število uporabnikov $N$, poprečno uporabo STV na osebo $q$ in temperaturno razliko med zahtevano temperaturo STV $\\theta_{dp,ref}$ in temperaturo sveže dobavljene vode $\\theta_{cw}$:\n",
    "\n",
    "$$ Q_{stv} = 0.00116 *N*q*(\\theta_{dp,ref}-\\theta_{cw})$$\n",
    "\n",
    "Ker se pri izračunu gre za stanovansjko poslopje je izbran $q = 60 L/ (oseba*dan)$"
   ]
  },
  {
   "cell_type": "code",
   "execution_count": 12,
   "metadata": {},
   "outputs": [],
   "source": [
    "q = 25 # L/oseba*dan"
   ]
  },
  {
   "cell_type": "markdown",
   "metadata": {},
   "source": [
    "Izbrati moramo še željeno temperaturo STV $\\theta_{dp,ref}$, standardna je $60°C$, zato bomo to izbrali tudi mi, ter temperaturo hladne vode v omrežju $\\theta_{cw}$, ki je izbrana na $12°C$\n",
    "\n",
    "V poslopju sta dve gospodinjstvi, skupno pa trenutno v poslopju stanuje 5 oseb. Torej: $N=5$."
   ]
  },
  {
   "cell_type": "code",
   "execution_count": 13,
   "metadata": {},
   "outputs": [],
   "source": [
    "thetacw = 12 #°C\n",
    "thetadpref = 60 #°C\n",
    "N = 5 #število oseb"
   ]
  },
  {
   "cell_type": "markdown",
   "metadata": {},
   "source": [
    "Sedaj lahko izračunamo dnevno energijo za STV."
   ]
  },
  {
   "cell_type": "code",
   "execution_count": 14,
   "metadata": {},
   "outputs": [
    {
     "name": "stdout",
     "output_type": "stream",
     "text": [
      "Dnevna energija potrebna za ogrevanje STV je: 7.0kWh\n"
     ]
    }
   ],
   "source": [
    "Qstv = 0.00116 * N * q * (thetadpref-thetacw)\n",
    "print(f'Dnevna energija potrebna za ogrevanje STV je: {round(Qstv,0)}kWh')"
   ]
  },
  {
   "cell_type": "markdown",
   "metadata": {},
   "source": [
    "Iz energije lahko moč določimo s sledečo enačbo:\n",
    "$$\\dot{Q}_{stv} = \\frac{Q_{stv}}{t_{stv}}*f_{stv}$$\n",
    "\n",
    "Za $f_{stv}$ uporabimo vrednost 1.21\n",
    "Čas ogrevanja STV pa izberemo da je 4 ure. $t_{stv}=4ure$"
   ]
  },
  {
   "cell_type": "code",
   "execution_count": 15,
   "metadata": {},
   "outputs": [
    {
     "name": "stdout",
     "output_type": "stream",
     "text": [
      "Potrebna moč za zagotavljanje nemotene oskrbe STV je 4.0 kW\n"
     ]
    }
   ],
   "source": [
    "fstv = 1.21\n",
    "tstv = 2 #ure\n",
    "dQstv = Qstv/tstv*fstv\n",
    "print(f'Potrebna moč za zagotavljanje nemotene oskrbe STV je {round(dQstv,0)} kW')"
   ]
  },
  {
   "cell_type": "markdown",
   "metadata": {},
   "source": [
    "### Velikost hranilnika STV\n",
    "Najprej moramo določiti volumen vode, ki zadošča pokrivanju dnevne porabe STV, nato pa je potrebno upoštevati še dnevne toplotne izgube hranilnika STV.\n",
    "\n",
    "Enačba ki popisuje potrebno velikost volumna vode je sledeča. V njej nastopa, poleg do sedaj že definiranih spremenljivk še dnevne toplotne izgube hranilnika $Q_{1,s}$ in učinkovitost volumna hranilnika, ki v povprečju znaša $\\eta_{s} = 0.8$.\n",
    "\n",
    "Sicer je $Q_{1,s}$ odvisen od velikosti volumna vendar, ker bomo zalogovnik izbrali iz kataloga, in ker drugi člen predstavlja veliko manjši del kot prvi, se lahko izračunu z diferencialno enačbo izognemo, ter minimalni volumen določimo le s prvim členom, drugega pa nato upoštevamo pri določitvi minimalnega volumna. \n",
    "$$V_{dp,ref}=\\frac{860*(\\dot{Q}_{stv}*t_{stv})}{(\\theta_{dp,ref}-\\theta_{cw})*\\eta_{s}}+\\frac{Q_{1,s}}{0.00116*(\\theta_{dp,ref}-\\theta_{cw})}$$"
   ]
  },
  {
   "cell_type": "code",
   "execution_count": 16,
   "metadata": {},
   "outputs": [
    {
     "name": "stdout",
     "output_type": "stream",
     "text": [
      "Preliminarni volumen hranilnika znaša 189.0L\n"
     ]
    }
   ],
   "source": [
    "etas = 0.8\n",
    "Vdpref1 = (860*dQstv*tstv)/((thetadpref-thetacw)*etas)\n",
    "print(f'Preliminarni volumen hranilnika znaša {round(Vdpref1,0)}L')"
   ]
  },
  {
   "cell_type": "markdown",
   "metadata": {},
   "source": [
    "Sedaj lahko iz preliminarnega volumna določimo še toplotne izgube in jih upoštevamo v celotnem izračunu.\n",
    "\n",
    "<img src=\"izgubevstv.png\">\n",
    "\n",
    "Pri preliminarnem volumnu 450L znaša dnevna izgubljena energija približno 3.2 kWh"
   ]
  },
  {
   "cell_type": "code",
   "execution_count": 17,
   "metadata": {},
   "outputs": [
    {
     "name": "stdout",
     "output_type": "stream",
     "text": [
      "Volumen hranilnika znaša 216.0L\n"
     ]
    }
   ],
   "source": [
    "Q1s = 1.5 #kWh/dan\n",
    "Vdpref2 = Vdpref1 + Q1s/(0.00116 * (thetadpref-thetacw))\n",
    "print(f'Volumen hranilnika znaša {round(Vdpref2,0)}L')"
   ]
  },
  {
   "cell_type": "markdown",
   "metadata": {},
   "source": [
    "### Izbor hranilnika iz kataloga\n",
    "V KRONOTERM katalogu je za izbrano ADAPT 0416 enoto na voljo 200 litrski hranilnik. Pri gospodarni rabi STV bo le-ta zadostoval. $V_{s}=200L$.\n",
    "\n",
    "<img src=\"notranjaenota.png\">"
   ]
  },
  {
   "cell_type": "code",
   "execution_count": 18,
   "metadata": {},
   "outputs": [],
   "source": [
    "Vs = 200 #L"
   ]
  },
  {
   "cell_type": "markdown",
   "metadata": {},
   "source": [
    "Na podlagi izbranega volumna lahko določimo dejansko potrebno moč toplotne črpalke po naslednji enačbi:\n",
    "\n",
    "$$\\dot{Q}_{stv,0set}=\\frac{V_{s}*0.00116*(\\theta_{set}-\\theta_{cw})}{t_{stw}}$$"
   ]
  },
  {
   "cell_type": "code",
   "execution_count": 19,
   "metadata": {},
   "outputs": [
    {
     "name": "stdout",
     "output_type": "stream",
     "text": [
      "Prava moč toplotne črpalke za dobavljanje STV znaša 6.0kW\n"
     ]
    }
   ],
   "source": [
    "dQstv0set = (Vs*0.00116*(thetadpref-thetacw))/tstv\n",
    "print(f'Prava moč toplotne črpalke za dobavljanje STV znaša {round(dQstv0set,0)}kW')"
   ]
  },
  {
   "cell_type": "markdown",
   "metadata": {},
   "source": [
    "## Skupna toplotna moč\n",
    "Sedaj lahko izračunamo še skupno toplotno moč, katero mora dosegati toplotna črpalka. To storimo s sledečo enačbo, ki je bila opisana že v začetku poglavja. Vse faktorje smo določili, tako da lahko sedaj določimo še pravo moč.\n",
    "\n",
    "$$\\dot{Q}_{hp}=\\dot{Q}_{h}*f_{h}+\\dot{Q}_{stv}+\\dot{Q}_{dod}$$\n",
    "\n"
   ]
  },
  {
   "cell_type": "code",
   "execution_count": 20,
   "metadata": {},
   "outputs": [
    {
     "name": "stdout",
     "output_type": "stream",
     "text": [
      "Skupna toplotna moč znaša 17.0kW\n"
     ]
    }
   ],
   "source": [
    "dQhp = dQh * fh + dQstv0set\n",
    "print(f'Skupna toplotna moč znaša {round(dQhp,0)}kW')"
   ]
  },
  {
   "cell_type": "markdown",
   "metadata": {},
   "source": [
    "# Raba energije za delovanje toplotne črpalke\n",
    "\n",
    "## Toplotna energija za ogrevanje in pripravo STV\n",
    "### Toplotna energija za ogrevanje stavbe\n",
    "\n",
    "Potrebno toplotno energijo bomo določili po naslednji enačbi.\n",
    "Ker je površina južno obrnjenih oken majhna in ker je osenčenost v ogrevalni sezoni velika, se dobitke zaradi sončnega sevanja $Q_{sol,d}$ zanemari. XXX\n",
    "\n",
    "Uporabimo enačbo:\n",
    "$$Q_{h,d}=\\dot{Q}_{h}*\\frac{\\theta_{i,ref}-\\theta_{e,d}}{\\theta_{i,ref}-\\theta_{e,ref}}*24-Q_{hg,d}-Q_{sol,d}$$\n",
    "\n",
    "Notranje toplotne dobitke $Q_{hg,d}$, ki predstavljajo oddajo naprav in ljudi pa določimo po povprečni vrednosti $4 W/m^{2}$"
   ]
  },
  {
   "cell_type": "code",
   "execution_count": 21,
   "metadata": {},
   "outputs": [
    {
     "name": "stdout",
     "output_type": "stream",
     "text": [
      "Skupni notranji toplotni dobitki znašajo 1.0kW\n"
     ]
    }
   ],
   "source": [
    "dQhgd = 4*181/1000\n",
    "print(f'Skupni notranji toplotni dobitki znašajo {round(dQhgd,0)}kW')"
   ]
  },
  {
   "cell_type": "markdown",
   "metadata": {},
   "source": [
    "Sedaj lahko določimo povprečne zunanje temperature na podlagi prej nastavljenih razredov. [°C]"
   ]
  },
  {
   "cell_type": "markdown",
   "metadata": {},
   "source": [
    "### Toplotni dobitki sončnega sevanja\n",
    "\n",
    "Toplotne dobitke sončenga sevanja se določi na podlagi sledeče enačbe:\n",
    "\n",
    "$$Q_{sol,d}=\\sum{A_{w,i}*(1-f_{wf,i})*g_{w,i}*G_{sol,w,i,d}}$$\n",
    "\n",
    "Za faktor $f_{wf,i}$ privzamemo da je 0, $g_{w,i}$ je lastnost steklenih površin in je pridobljen iz URSA gradbena fizika 4, njegova vrednost je 0.67. Moč sevanja je pridobljena iz ARSO in je odvisna od ure v dnevu.\n",
    "\n",
    "Zanimajo nas samo steklene površine na južno stran. Teh je približno 12m2."
   ]
  },
  {
   "cell_type": "code",
   "execution_count": 22,
   "metadata": {},
   "outputs": [],
   "source": [
    "Awi = 12 #m2\n",
    "fwfi = 0 #/\n",
    "gwi = 0.67 # /"
   ]
  },
  {
   "cell_type": "markdown",
   "metadata": {},
   "source": [
    "**Opomba**\n",
    "\n",
    "Tukaj nastopi največja šibkost metode po temperaturnih razredih. Dnevi se po razredih porazdelijo brez upoštevanja koledarskih dni in v vsakem razredu predstavljajo le število dni, ne pa tudi njihov datum. Kako torej, upoštevati radiacijske dobitke?\n",
    "\n",
    "Ena možnost je, da namesto po povprečnih dnevnih temperatur izračun izvajamo po urah razdeljenih v razrede. Vendar ima taka razredna urna metoda svoj problem: Kako upoštevati toploto, katero zahteva ogrevanje STV? -- Ne moremo vzeti pavšalne vrednosti `ura ogrevanja stv`/`ura delovanja TČ` [h/h], saj tako nebi upoštevali možnosti, da je izredno mrzla noč, in topel dan: izračun bi prikazal veliko potrebo po dodatnem gretju s pomožnim grelcem ponoči, podnevi pa bi TČ mirovala. Seveda v realnosti temu ni tako. \n",
    "\n",
    "Druga možnost bi bila da gremo po dnevni metodi, vendar dnevov ne razdelimo v razrede, marveč obravnavamo vsak dan zase: Znotraj 24 ur mora biti število potrebnih ur obratovanja TČ manjše od 24, sicer nam obratuje dogrevanje. Za manjše odstopke, ko je znotraj neke ure preveč mrzlo, pa pač predpostavimo, da se v hiši temperatura (zanemarljivo) malo spusti. Taka metoda bi bila najbolj primerna, saj bi z njo lahko pravilno upoštevali sončne dobitke, potrebno toploto za ogrevanje STV in tudi toplotne izgube zaradi zunanje temperature.\n",
    "\n",
    "Tukaj bomo te napake pri izračunu \"pozabili\". Nadaljujemo po dnevni metodi, ter za vsak temperaturni razred vzamemo njegovo povprečno sevanje, katerega dobimo iz ARSO CSV datoteke. Ta metoda je problematična, ker za vsak dan vzame povprečno vrednost obsevanja, ki ni pravilna, saj je ponoči sevanje 0, povprečje posledično nenatančno, določena vrednost toplotnih dobitkov pa tako manjša od dejanske,\n",
    "\n",
    "**Konec opombe**"
   ]
  },
  {
   "cell_type": "markdown",
   "metadata": {},
   "source": [
    "Metoda `temperaturesByTime` nam za vsak temperaturni razred vrne povprečno urno vrednost obsevanja: $W_{h}/m^{2}h$."
   ]
  },
  {
   "cell_type": "code",
   "execution_count": 58,
   "metadata": {},
   "outputs": [],
   "source": [
    "Gsolwid = np.array(zModel.temperaturesByTime(razredi, CSVfile, returnShape='radiation'))  #Wh/m2day"
   ]
  },
  {
   "cell_type": "markdown",
   "metadata": {},
   "source": [
    "Za primer prikažemo povprečno dnevno sevanje za nek temperaturni razred. "
   ]
  },
  {
   "cell_type": "code",
   "execution_count": 59,
   "metadata": {},
   "outputs": [
    {
     "name": "stdout",
     "output_type": "stream",
     "text": [
      "Za temperaturni razred (-5, -4), je povprečno dnevno sevanje 46.85 Wh/m2h\n"
     ]
    }
   ],
   "source": [
    "print(f'Za temperaturni razred {razredi[15]}, je povprečno dnevno sevanje {round(Gsolwid[15],2)} Wh/m2h')"
   ]
  },
  {
   "cell_type": "markdown",
   "metadata": {},
   "source": [
    "V enem povprečnem dnevu zgornjega razreda bi torej sevanje stavbo segrelo za naslednjo količino energije:"
   ]
  },
  {
   "cell_type": "code",
   "execution_count": 60,
   "metadata": {},
   "outputs": [
    {
     "name": "stdout",
     "output_type": "stream",
     "text": [
      "Za povprečen dan temperaturnega razreda (-5, -4), bi sevanje v stavbo prineslo 1124.5 Wh/m2\n"
     ]
    }
   ],
   "source": [
    "print(f'Za povprečen dan temperaturnega razreda {razredi[15]}, bi sevanje v stavbo prineslo {round(Gsolwid[15]*24,2)} Wh/m2')"
   ]
  },
  {
   "cell_type": "markdown",
   "metadata": {},
   "source": [
    "Vrednosti vstavimo v zgornjo enačbo, da določimo količino energije, ki je prispeva sonce.\n"
   ]
  },
  {
   "cell_type": "code",
   "execution_count": 76,
   "metadata": {},
   "outputs": [],
   "source": [
    "Qsold = Awi*(1-fwfi)*gwi*Gsolwid*24 / (1000) "
   ]
  },
  {
   "cell_type": "markdown",
   "metadata": {},
   "source": [
    "Za nek toplotni razred bi torej v povprečnem dnevu sonce prineslo toliko energije:"
   ]
  },
  {
   "cell_type": "code",
   "execution_count": 77,
   "metadata": {},
   "outputs": [
    {
     "name": "stdout",
     "output_type": "stream",
     "text": [
      "Za povprečen dan temperaturnega razreda (-5, -4), bi sevanje v stavbo prineslo 9.04 kWh\n"
     ]
    }
   ],
   "source": [
    "print(f'Za povprečen dan temperaturnega razreda {razredi[15]}, bi sevanje v stavbo prineslo {round(Qsold[15],2)} kWh')"
   ]
  },
  {
   "cell_type": "markdown",
   "metadata": {},
   "source": [
    "### Toplotna energija po razredih\n",
    "Sedaj smo si pripravili vse podatke in vrednosti, ki jih bomo potrebovali za (relativno) natančen preračun porabe energije po temperaturnih razredih. Uporabimo enačbo. ki je podana na začetku poglavja.\n",
    "\n",
    "$$Q_{h,d}=\\dot{Q}_{h}*\\frac{\\theta_{i,ref}-\\theta_{e,d}}{\\theta_{i,ref}-\\theta_{e,ref}}*24-Q_{hg,d}-Q_{sol,d}$$\n",
    "\n",
    "Prvi člen je moč zaradi toplotnih izgub, drugi člen je moč TČ, zato moramo ta člena pomnožiti s številom ur v dnevu, ker uporabljamo dnevno metodo. Zadnji člen pa je že v dnevni energiji, zato ga ni potrebno množiti."
   ]
  },
  {
   "cell_type": "code",
   "execution_count": 89,
   "metadata": {},
   "outputs": [],
   "source": [
    "Qhd = dQh*(thetairef-thetaed)/(thetairef-thetaeref)*24-dQhgd*24 - Qsold"
   ]
  },
  {
   "cell_type": "markdown",
   "metadata": {},
   "source": [
    "Ta izračun je narejen za vsak temperaturni razred (spremenljivka `thetaed`). V tem rezultatu še ni upoštevano dejansko število dni v vsakem razredu. To bomo storili v naslednjem koraku. Sedaj lahko prikažemo koliko energije bi za ogrevanje potrebovali za povprečni dan v nekem temperaturnem razredu.\n"
   ]
  },
  {
   "cell_type": "code",
   "execution_count": 90,
   "metadata": {},
   "outputs": [
    {
     "name": "stdout",
     "output_type": "stream",
     "text": [
      "Za povprečen dan temperaturnega razreda (-5, -4), bi za ogrevanje stavbe potrebovali 188.38 kWh\n"
     ]
    }
   ],
   "source": [
    "print(f'Za povprečen dan temperaturnega razreda {razredi[15]}, bi za ogrevanje stavbe potrebovali {round(Qhd[15],2)} kWh')"
   ]
  },
  {
   "cell_type": "markdown",
   "metadata": {},
   "source": [
    "Če sedaj te izgube pomnožimo s številom dni določimo potrebno toplotno energijo za vsak razred posebej. [kWh]"
   ]
  },
  {
   "cell_type": "code",
   "execution_count": 92,
   "metadata": {},
   "outputs": [
    {
     "name": "stdout",
     "output_type": "stream",
     "text": [
      "Za vse dni v temperaturnem razredu (-5, -4), bi za ogrevanje stavbe potrebovali 1130.28 kWh\n"
     ]
    }
   ],
   "source": [
    "print(f'Za vse dni v temperaturnem razredu {razredi[15]}, bi za ogrevanje stavbe potrebovali {round((Qhd*thetaedtime)[15],2)} kWh')"
   ]
  },
  {
   "cell_type": "markdown",
   "metadata": {},
   "source": [
    "#### Celoletna toplotna energija\n",
    "Nazadnje še seštejemo toplotne energije, da dobimo celoletno toplotno energijo za ogrevanje stavbe. [kWh]"
   ]
  },
  {
   "cell_type": "code",
   "execution_count": 93,
   "metadata": {},
   "outputs": [
    {
     "name": "stdout",
     "output_type": "stream",
     "text": [
      "Za vse dni v vseh temperaturnih razredih, bi za ogrevanje stavbe potrebovali 21225.21 kWh\n"
     ]
    }
   ],
   "source": [
    "print(f'Za vse dni v vseh temperaturnih razredih, bi za ogrevanje stavbe potrebovali {round(np.sum(Qhd*thetaedtime),2)} kWh')"
   ]
  },
  {
   "cell_type": "markdown",
   "metadata": {},
   "source": [
    "Dejanska poraba energenta v stavbi je med **2000** in **2500** litrov ekstra lahkega kurilnega olja. Izračun pokaže porabo **~21.5 MWh** energije, kar približno sovpada z realnimi podatki. Z izračunom smo tako relativno zadovoljni in lahko nadaljujemo z analizo."
   ]
  },
  {
   "cell_type": "markdown",
   "metadata": {},
   "source": [
    "### Toplotna energija za pripravo STV\n",
    "Potrebno toplotno energijo za pripravo STV se določi na osnovi že določene toplotne moči, z naslednjo enačbo:\n",
    "$$Q_{stv,d}=\\dot{Q}_{stv,0set}*t_{stv}$$"
   ]
  },
  {
   "cell_type": "code",
   "execution_count": 31,
   "metadata": {
    "scrolled": true
   },
   "outputs": [
    {
     "name": "stdout",
     "output_type": "stream",
     "text": [
      "Skupna dnevna raba energije za pripravo STV znaša 11.14kWh\n"
     ]
    }
   ],
   "source": [
    "Qstvd=dQstv0set*tstv\n",
    "print(f'Skupna dnevna raba energije za pripravo STV znaša {round(Qstvd,2)}kWh') #"
   ]
  },
  {
   "cell_type": "markdown",
   "metadata": {},
   "source": [
    "## Temperatura izstopajoče ogrevane vode\n",
    "\n",
    "XXX Manjka"
   ]
  },
  {
   "cell_type": "code",
   "execution_count": null,
   "metadata": {},
   "outputs": [],
   "source": []
  },
  {
   "cell_type": "markdown",
   "metadata": {},
   "source": [
    "## Čas delovanja toplotne črpalke\n"
   ]
  },
  {
   "cell_type": "markdown",
   "metadata": {},
   "source": [
    "Toplotna moč črpalke. Toplotno moč lahko določimo s pomočjo sledečega diagrama, katerega nam poda proizvajalec.\n",
    "\n",
    "<img src=\"grelnamoč.png\">\n",
    "\n",
    "Vidimo lahko, da je padec grelne moči sorazmerno linearen. Izberemo visokotemperaturni režim 55°C. Lahko torej določimo dve točki, ter med njima potegnemo premico:\n",
    "$T_{1}=(-25,7)$, $T_{2}=(-5,12)$\n",
    "\n",
    "Določimo funkcijo moči:"
   ]
  },
  {
   "cell_type": "code",
   "execution_count": 32,
   "metadata": {},
   "outputs": [],
   "source": [
    "from scipy import interpolate\n",
    "x=np.array([-25,-5,45])\n",
    "y=np.array([7,12,12])\n",
    "fdQhp0 = interpolate.interp1d(x, y, kind='linear')"
   ]
  },
  {
   "cell_type": "markdown",
   "metadata": {},
   "source": [
    "### Bivalentna točka\n",
    "Želimo izrisati graf obratovanja toplotne črpalke. Primer grafa iz predloge.\n",
    "Ločimo dva načina obratovanja toplotne črpalke: monovalentno in bivalentno obratovanje. Pri monovalentnem obratovanju toplotna črpalka pokriva celotne potrebe po toplotni moči - slika levo.\n",
    "\n",
    "Pri bivalentnem obratovanju pa toplotna črpalka pokriva del toplotne moči, preostali del pa pokriva drugi toplotni vir - slika desno. V primeru bivalentnega obratovanje toplotne črpalke, je pri izbiri toplotne moči toplotne črpalke pomembno določitev bivalentne točke. Ta predstavlja zunanjo temperaturo do katere TČ pokriva potrebe po toploti v stavbi .\n",
    "\n",
    "<img src=\"bivalentnatocka.png\">\n"
   ]
  },
  {
   "cell_type": "markdown",
   "metadata": {},
   "source": [
    "Določimo tudi funkcijo potrebne moči za ogrevanje stavbe"
   ]
  },
  {
   "cell_type": "code",
   "execution_count": 33,
   "metadata": {},
   "outputs": [],
   "source": [
    "fdQh = interpolate.interp1d(thetaed, dQh*(thetairef-thetaed)/(thetairef-thetaeref), kind='linear')"
   ]
  },
  {
   "cell_type": "markdown",
   "metadata": {},
   "source": [
    "Izrišemo graf naše funkcije moči in potrebne moči za ogrevanje hiše. Na presečišču se nahaja bivalentna točka. \n"
   ]
  },
  {
   "cell_type": "code",
   "execution_count": 34,
   "metadata": {},
   "outputs": [
    {
     "data": {
      "image/png": "[encoded data removed]",
      "text/plain": [
       "<Figure size 432x288 with 1 Axes>"
      ]
     },
     "metadata": {},
     "output_type": "display_data"
    }
   ],
   "source": [
    "x_g = np.linspace(x[0], x[-1], 20*len(x)-1)\n",
    "plt.plot(x, y, 'o', label='Interpolacijske točke')\n",
    "plt.plot(x_g, fdQhp0(x_g), '-', label='Interpolacija')\n",
    "plt.plot(thetaed,fdQh(thetaed),label='Potrebna moč TČ')\n",
    "plt.axvline(x=-9.55,label='Bivalentna točka')\n",
    "plt.legend();"
   ]
  },
  {
   "cell_type": "markdown",
   "metadata": {},
   "source": [
    "Kot lahko opazimo je bivalentna točka nekje pri $-9.5°C$. Temperature, ki so nižje od tega zahtevajo alternativni način ogravanja, kot je opisano v začetku poglavja.\n",
    "\n",
    "## Čas delovanja toplotne črpalke\n",
    "### Teoretični čas obratovanja\n",
    "\n",
    "Preverimo lahko še koliko ur bi morala TČ obratovati, da zadosti dnevne potrebe po toploti. Vse vrednosti nad 24 ur pomenijo, da potrebujemo alternativni vir.\n",
    "\n",
    "Uporabimo enačbo:\n",
    "$$t_{ON,hp,d}=\\frac{Q_{h,d}}{\\dot{Q}_{hp,h,d}}+\\frac{Q_{stv,d}}{\\dot{Q}_{hp,stv,d}}[h]$$\n",
    "\n",
    "Ker ogrevanje in STV grejemo z enako črpalko uporabimo pri obeh enako moč."
   ]
  },
  {
   "cell_type": "code",
   "execution_count": 35,
   "metadata": {},
   "outputs": [
    {
     "name": "stdout",
     "output_type": "stream",
     "text": [
      "[40.60470448 38.41126957 36.34140845 34.38496438 32.532864   30.77697662\n",
      " 29.10999494 27.52533333 26.01704096 24.57972706 23.20849655 21.89889438\n",
      " 20.64685714 19.44867097 18.30093474 17.3797     16.6491     15.9185\n",
      " 15.1879     14.4573     13.7267     12.9961     12.2655     11.5349\n",
      " 10.8043     10.0737      9.3431      8.6125      7.8819      7.1513\n",
      "  6.4207      5.6901      4.9595      4.2289      3.4983      2.7677\n",
      "  2.0371      1.3065    ]\n"
     ]
    }
   ],
   "source": [
    "tonhpd = Qhd / fdQhp0(thetaed) + Qstvd / fdQhp0(thetaed)\n",
    "print(tonhpd) #h/dan"
   ]
  },
  {
   "cell_type": "markdown",
   "metadata": {},
   "source": [
    "### Čas obratovanja dogrevanja\n",
    "Ker naša toplotna črpalka ne zadostuje zahtevani moči, moramo moč dodajati z dodatnim grelcem. Ta je izveden kot navadni električni grelec ki vso svojo moč pretvori v toploto. Predvideti želimo koliko časa bo moral grelec delovati.\n",
    "To storimo s sledečo enačbo:\n",
    "$$t_{ON,pu,d}=\\frac{Q_{h,d}+Q_{stv,d}+Q_{dod,d}-(Q_{h,hp,d}+Q_{stv,hp,d}+Q_{dod,hp,d})}{\\dot{Q}_{pu}}$$\n",
    "\n",
    "Ker ogrevanje in STV grejemo iz istega vira (TČ) bomo upoštevali celotno energijo, ki jo TČ lahko dobavi v enem dnevu. Prav tako ni dodatnih ponorov toplote, zato teh členov ne upoštevamo. Dobimo sledečo enačbo:\n",
    "$$t_{ON,pu,d}=\\frac{Q_{h,d}+Q_{stv,d}-Q_{hp,d}}{\\dot{Q}_{pu}} [h]$$\n",
    "\n",
    "Za vsak temperaturni razred preverimo koliko časa mora delovati pomožni grelec. Negativne vrednosti pomenijo da toplotna črpalka zagotavlja presežek energije. Enote so v urah.\n",
    "\n",
    "V poglavju **Izbor hranilnika iz kataloga** lahko vidimo, da ima izbrana *TČ ADAPT 0416 K3 HT / HK 1F*  $2*2kW$ grelec."
   ]
  },
  {
   "cell_type": "code",
   "execution_count": 36,
   "metadata": {},
   "outputs": [],
   "source": [
    "dQpu = 4 #kW"
   ]
  },
  {
   "cell_type": "code",
   "execution_count": 37,
   "metadata": {},
   "outputs": [
    {
     "data": {
      "text/plain": [
       "array([ 34.7661,  31.0743,  27.3825,  23.6907,  19.9989,  16.3071,\n",
       "        12.6153,   8.9235,   5.2317,   1.5399,  -2.1519,  -5.8437,\n",
       "        -9.5355, -13.2273, -16.9191, -19.8609, -22.0527, -24.2445,\n",
       "       -26.4363, -28.6281, -30.8199, -33.0117, -35.2035, -37.3953,\n",
       "       -39.5871, -41.7789, -43.9707, -46.1625, -48.3543, -50.5461,\n",
       "       -52.7379, -54.9297, -57.1215, -59.3133, -61.5051, -63.6969,\n",
       "       -65.8887, -68.0805])"
      ]
     },
     "execution_count": 37,
     "metadata": {},
     "output_type": "execute_result"
    }
   ],
   "source": [
    "tonpud = (Qhd + Qstvd - fdQhp0(thetaed)*24) / dQpu \n",
    "tonpud #h/dan"
   ]
  },
  {
   "cell_type": "markdown",
   "metadata": {},
   "source": [
    "Konkretno za naše klimatske pogoje je v vsakem temperaturnem režimu toliko ur obratovanja:"
   ]
  },
  {
   "cell_type": "code",
   "execution_count": 38,
   "metadata": {},
   "outputs": [
    {
     "data": {
      "text/plain": [
       "array([    0.    ,     0.    ,     0.    ,     0.    ,     0.    ,\n",
       "           0.    ,     0.    ,     8.9235,     0.    ,     0.    ,\n",
       "          -4.3038,   -11.6874,    -9.5355,   -13.2273,   -33.8382,\n",
       "        -119.1654,  -132.3162,  -169.7115,  -158.6178,  -458.0496,\n",
       "        -400.6587,  -528.1872,  -422.442 ,  -261.7671,  -395.871 ,\n",
       "        -417.789 ,  -615.5898,  -784.7625,  -773.6688,  -707.6454,\n",
       "        -580.1169,  -933.8049,  -913.944 ,  -830.3862,  -799.5663,\n",
       "        -764.3628, -1317.774 ,  -953.127 ])"
      ]
     },
     "execution_count": 38,
     "metadata": {},
     "output_type": "execute_result"
    }
   ],
   "source": [
    "ar = tonpud * thetaedtime\n",
    "ar #h"
   ]
  },
  {
   "cell_type": "markdown",
   "metadata": {},
   "source": [
    "Zanima nas še skupno število obratovalnih ur dogrevanja. Za vsak temperaturni razred moramo torej pomnožiti z številom dni v razredu. Negativne vrednosti pomenijo da toplotna črpalka zagotavlja presežek energije in da ne potrebujemo dogrevanja."
   ]
  },
  {
   "cell_type": "code",
   "execution_count": 39,
   "metadata": {},
   "outputs": [
    {
     "name": "stdout",
     "output_type": "stream",
     "text": [
      "Skupno število ur obratovanja dogrevanja 9.0 ur\n"
     ]
    }
   ],
   "source": [
    "tonpu = ar[ar>0].sum()\n",
    "print(f'Skupno število ur obratovanja dogrevanja {round(tonpu,0)} ur')"
   ]
  },
  {
   "cell_type": "markdown",
   "metadata": {},
   "source": [
    "## Raba električne energije za delovanje toplotne črpalke\n",
    "Rabo električne energije za delovanje toplotne črpalke določimo na osnovi obratovalnih karakteristik toplotne črpalke in njenega časa obratovanja.\n",
    "\n",
    "Določili bomo porabo na osnovi rabe toplotne energije in učinkovitosti toplotne črpalke, s sledečo enačbo:\n",
    "\n",
    "$$E_{hp,d}=\\frac{Q_{h,d}}{COP_{h,s}}+\\frac{Q_{stv,d}}{COP_{stv,s}}$$\n",
    "\n",
    "Originalna enačba kliče po uporabi dnevne COP vrednosti, vendar le-te proizvajalec v katalogu ne podaja. Prav tako proizvajalec ne podaja COP v odvisnosti od zunanje temperature, zato bomo uporabili sezonski COP, ki je za toplotni režim 55°C: $COP_{s}=3.75$\n",
    "\n",
    "<img src=\"cop.png\">"
   ]
  },
  {
   "cell_type": "code",
   "execution_count": 40,
   "metadata": {},
   "outputs": [],
   "source": [
    "COPs=3.75"
   ]
  },
  {
   "cell_type": "markdown",
   "metadata": {},
   "source": [
    "Za naše pogoje v vseh toplotnih režimih je poraba energije sledeča:"
   ]
  },
  {
   "cell_type": "code",
   "execution_count": 41,
   "metadata": {},
   "outputs": [
    {
     "data": {
      "text/plain": [
       "array([  0.     ,   0.     ,   0.     ,   0.     ,   0.     ,   0.     ,\n",
       "         0.     ,  71.3488 ,   0.     ,   0.     , 128.67008, 123.99424,\n",
       "        59.6592 ,  57.32128, 109.96672, 315.87264, 301.84512, 335.7872 ,\n",
       "       273.79008, 692.70016, 532.42592, 617.88672, 435.36   , 237.59456,\n",
       "       316.0416 , 292.6624 , 376.99648, 418.0368 , 356.03968, 278.80384,\n",
       "       193.34304, 259.05824, 206.4128 , 147.88032, 106.92448,  70.64448,\n",
       "        70.9824 ,  16.9568 ])"
      ]
     },
     "execution_count": 41,
     "metadata": {},
     "output_type": "execute_result"
    }
   ],
   "source": [
    "Ehpd = Qhd * thetaedtime / COPs \n",
    "Ehpd #kWh/dan"
   ]
  },
  {
   "cell_type": "markdown",
   "metadata": {},
   "source": [
    "Za naše pogoje je raba električne energije sledeča:\n"
   ]
  },
  {
   "cell_type": "markdown",
   "metadata": {},
   "source": [
    "Skupna sezonska poraba TČ pa:\n",
    "    "
   ]
  },
  {
   "cell_type": "code",
   "execution_count": 42,
   "metadata": {},
   "outputs": [
    {
     "data": {
      "text/plain": [
       "8488.91008"
      ]
     },
     "execution_count": 42,
     "metadata": {},
     "output_type": "execute_result"
    }
   ],
   "source": [
    "Ehp = (Ehpd).sum() + Qstvd * 365 / COPs   #kWh\n",
    "Ehp"
   ]
  },
  {
   "cell_type": "markdown",
   "metadata": {},
   "source": [
    "# Sezonski faktor učinkovitosti\n",
    "Sezonski faktor učinkovitosti oz. SPF ovrednotimo z razmerjem med proizvedeno toploto in vloženo energijo. Za primer električno gnane toplotne črpalke z dodatnim električnih grelcem se sezonski faktor učinkovitosti sistema SPF določi po sledeči enačbi:\n",
    "\n",
    "$$SPF=\\frac{Q_{h}+Q_{stv}+Q_{dod}}{E_{hp}+E_{bu}+E_{aux}}$$\n",
    "\n",
    "V katalogu lahko razberemo, da je moč obtočne črtpalke $75W$. Dolžina ogrevalne sezone je **140 dni**"
   ]
  },
  {
   "cell_type": "code",
   "execution_count": 43,
   "metadata": {},
   "outputs": [],
   "source": [
    "Paux = 75/1000 #kW"
   ]
  },
  {
   "cell_type": "code",
   "execution_count": 44,
   "metadata": {},
   "outputs": [
    {
     "name": "stdout",
     "output_type": "stream",
     "text": [
      "Sezonski faktor učinkovitosti je 3.7\n"
     ]
    }
   ],
   "source": [
    "SPF = ((Qhd*thetaedtime).sum() + Qstvd*365 ) / ( Ehp + Paux*140 + tonpu*4)\n",
    "print(f'Sezonski faktor učinkovitosti je {round(SPF,1)}')"
   ]
  },
  {
   "cell_type": "markdown",
   "metadata": {},
   "source": [
    "# Ekonomska analiza toplotnih črpalk\n",
    "Poleg učinkovitosti in vpliva na okolje je za končne uporabnike praviloma najbolj pomembna ekonomska analiza. Pri njej je potrebno upoštevati ceno sistema, način investice in stroške kreditiranja ter obratovanja.\n",
    "\n",
    "## Vračilna doba\n",
    "Prva in najbolj pomembna metrika pri ekonomski analizi je vračilna doba.  XXX"
   ]
  },
  {
   "cell_type": "code",
   "execution_count": 45,
   "metadata": {},
   "outputs": [],
   "source": [
    "rint = 1 + 2.5/100\n",
    "year = 10\n",
    "cinvhp = 10000"
   ]
  },
  {
   "cell_type": "code",
   "execution_count": 46,
   "metadata": {},
   "outputs": [
    {
     "data": {
      "text/plain": [
       "1142.5876317714033"
      ]
     },
     "execution_count": 46,
     "metadata": {},
     "output_type": "execute_result"
    }
   ],
   "source": [
    "alfa = (cinvhp*rint**year*(rint-1))/(rint**year-1)\n",
    "alfa\n"
   ]
  },
  {
   "cell_type": "code",
   "execution_count": 47,
   "metadata": {},
   "outputs": [
    {
     "data": {
      "text/plain": [
       "11425.876317714032"
      ]
     },
     "execution_count": 47,
     "metadata": {},
     "output_type": "execute_result"
    }
   ],
   "source": [
    "alfa*year"
   ]
  },
  {
   "cell_type": "code",
   "execution_count": 48,
   "metadata": {},
   "outputs": [
    {
     "data": {
      "text/plain": [
       "12800.845441963567"
      ]
     },
     "execution_count": 48,
     "metadata": {},
     "output_type": "execute_result"
    }
   ],
   "source": [
    "gn=cinvhp*rint**year\n",
    "gn"
   ]
  },
  {
   "cell_type": "markdown",
   "metadata": {},
   "source": [
    "http://www.educa.fmf.uni-lj.si/izodel/sola/2006/ura/benko/html/N_obrestovanje.html"
   ]
  }
 ],
 "metadata": {
  "kernelspec": {
   "display_name": "Python 3",
   "language": "python",
   "name": "python3"
  },
  "language_info": {
   "codemirror_mode": {
    "name": "ipython",
    "version": 3
   },
   "file_extension": ".py",
   "mimetype": "text/x-python",
   "name": "python",
   "nbconvert_exporter": "python",
   "pygments_lexer": "ipython3",
   "version": "3.7.5"
  },
  "toc": {
   "base_numbering": 1,
   "nav_menu": {},
   "number_sections": true,
   "sideBar": true,
   "skip_h1_title": false,
   "title_cell": "Table of Contents",
   "title_sidebar": "Contents",
   "toc_cell": false,
   "toc_position": {},
   "toc_section_display": true,
   "toc_window_display": false
  }
 },
 "nbformat": 4,
 "nbformat_minor": 2
}
