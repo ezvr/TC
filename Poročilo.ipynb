{
 "cells": [
  {
   "cell_type": "markdown",
   "metadata": {},
   "source": [
    "# Meteorološki podatki "
   ]
  },
  {
   "cell_type": "markdown",
   "metadata": {},
   "source": [
    "Najprej potrebujemo pridobiti meteorološke podatke na lokaciji stavbe.\n",
    "Le ta stoji v Ljubljani, zato so GK koordinate sledeče: Y = 462645 m, X = 102486 m, pridobljeni podatki pa sledeči:\n",
    "\n",
    " - projektna temperatura okolice  $\\theta_{e, ref}$: **-13°C**\n",
    " - povprečna letna temperatura okolice $\\theta_{e, ann}$: **9.9°C**\n",
    " - povprečna mesečna dnevna energija sončnega obsevanja $G_{sol,i,d}$: **1121 kWh/m$^{2}$**\n",
    " - povprečna dnevna temperatura okolice $\\theta_{e, d}$: Izračunana v naslednjih korakih."
   ]
  },
  {
   "cell_type": "code",
   "execution_count": 1,
   "metadata": {},
   "outputs": [],
   "source": [
    "thetaeref = -13 #°C\n",
    "thetaeann = 9.9 #°C\n",
    "gsolid = 1121 #kWh/m2"
   ]
  },
  {
   "cell_type": "markdown",
   "metadata": {},
   "source": [
    "Uvozimo potrebne module"
   ]
  },
  {
   "cell_type": "code",
   "execution_count": 2,
   "metadata": {},
   "outputs": [],
   "source": [
    "import matplotlib.pyplot as plt"
   ]
  },
  {
   "cell_type": "markdown",
   "metadata": {},
   "source": [
    "Uvozimo podatke za tipično leto.\n",
    "Podatki so v CSV datoteki s sledečimi vrsticami:\n",
    "\n",
    "'Mesec', 'Dan', 'Ura', 'Temperatura', 'RelativnaVlaznost', 'GlobalnoSevanje', 'HitrostVetra', 'SmerVetra'\n",
    "\n",
    "Uporabimo le prve štiri, "
   ]
  },
  {
   "cell_type": "code",
   "execution_count": 3,
   "metadata": {},
   "outputs": [
    {
     "name": "stdout",
     "output_type": "stream",
     "text": [
      "Povprečna dnevna temperatura okolice je: 11.539840182648412 °C\n"
     ]
    }
   ],
   "source": [
    "with open(\"meteorological_year_ljubljana.csv\") as file:\n",
    "    # First we prepare the array of items\n",
    "    i = []\n",
    "    for index, line in enumerate(file):\n",
    "        if index == 0:\n",
    "            #We remove the header row\n",
    "            continue;\n",
    "        i.append(line.split(\";\")[:4])\n",
    "# Now we loop through the items\n",
    "days = []\n",
    "for m in range(1,13):\n",
    "    # We filter out just the current month\n",
    "    i_m = list(filter(lambda x: int(x[0]) == m, i))\n",
    "    # We determine the number of days in month:\n",
    "    d_m = int(i_m[-1][1])\n",
    "    # We assemble list of days\n",
    "    for d in range (1,d_m+1):\n",
    "        day = list(filter(lambda x: int(x[1]) == d, i_m))\n",
    "        # We get average temperature for each day\n",
    "        t = 0\n",
    "        for h in day:\n",
    "            t = t + float(h[3])\n",
    "        # We append the average temperature to the flat list of average daily temperatures\n",
    "        days.append(t/24)\n",
    "# We reduce the array of all the daily average temperatures to a single value\n",
    "def Average(lst): \n",
    "    return sum(lst) / len(lst) \n",
    "thetaed = Average(days)\n",
    "print(f'Povprečna dnevna temperatura okolice je: {thetaed} °C')"
   ]
  },
  {
   "cell_type": "code",
   "execution_count": 99,
   "metadata": {},
   "outputs": [],
   "source": [
    "def temperaturesByTime(razredi=[(-100,100)],filename='',method=1):\n",
    "    \"\"\"\n",
    "    This function read the ARSO data, \n",
    "    parses it based on the daily or hourly method and returns an\n",
    "    array of values based on the predetermined temperature classes\n",
    "    Parameters:\n",
    "        razredi - temperaturni razredi, an array of tuples\n",
    "        filename - the name of the ARSO csv placed into the root\n",
    "        method - 0: daily, 1:hourly\n",
    "    \"\"\"\n",
    "    # Initialize Results Array\n",
    "    resultsArray = list(map(lambda x: 0, razredi))\n",
    "    # First we prepare the array of measurements\n",
    "    measurements = []\n",
    "    with open(filename) as file:\n",
    "        # First we prepare the array of items\n",
    "        for index, line in enumerate(file):\n",
    "            if index == 0:\n",
    "                #We remove the header row\n",
    "                continue;\n",
    "            measurements.append(line.split(\";\")[:4])\n",
    "    def addToResultsArray(temperature):\n",
    "        \"\"\"\n",
    "        This function iterates the correct place in the results array by one.\n",
    "        \"\"\"\n",
    "        for i, r in enumerate(razredi):\n",
    "                # We check for each razred if the measured temperature fits\n",
    "                if( r[0] < temperature and temperature <= r[1] ):\n",
    "                    # The measuremed temperature fits the razred, we add one\n",
    "                    # hour to the correct place in results array\n",
    "                    resultsArray[i] += 1\n",
    "            \n",
    "    # If we are using hourly method\n",
    "    if( method == 1):\n",
    "        for m in measurements:\n",
    "            # Now we put the measurement into the correct place in the results array\n",
    "            addToResultsArray(float(m[3]))\n",
    "        return resultsArray\n",
    "    # If we are using daily method\n",
    "    if( method == 0 ):\n",
    "        # We agregate hourly values for each day\n",
    "        dailyAgregate = 0\n",
    "        for m in measurements:\n",
    "            # Add the temperature to the daily agregate\n",
    "            dailyAgregate = dailyAgregate + float(m[3])\n",
    "            # If we have reached the last hour\n",
    "            if( float(m[2]) == 23 ):\n",
    "                # Get the daily average temperature\n",
    "                dailyAgregate /= 24\n",
    "                # Add a value to the results\n",
    "                addToResultsArray(dailyAgregate)\n",
    "                # Reset daily agregate\n",
    "                dailyAgregate = 0\n",
    "        # We have finished the for loop\n",
    "        return resultsArray "
   ]
  },
  {
   "cell_type": "code",
   "execution_count": 96,
   "metadata": {},
   "outputs": [],
   "source": [
    "razredi = [\n",
    "    (-100,-20),\n",
    "    (-20,-10),\n",
    "    (-10,0),\n",
    "    (0,10),\n",
    "    (10,100)\n",
    "]"
   ]
  },
  {
   "cell_type": "code",
   "execution_count": 97,
   "metadata": {},
   "outputs": [
    {
     "data": {
      "text/plain": [
       "[0, 0, 984, 2810, 4966]"
      ]
     },
     "execution_count": 97,
     "metadata": {},
     "output_type": "execute_result"
    }
   ],
   "source": [
    "temperaturesByTime(razredi=razredi, filename='meteorological_year_ljubljana.csv')"
   ]
  },
  {
   "cell_type": "code",
   "execution_count": 98,
   "metadata": {},
   "outputs": [
    {
     "data": {
      "text/plain": [
       "[0, 0, 34, 118, 213]"
      ]
     },
     "execution_count": 98,
     "metadata": {},
     "output_type": "execute_result"
    }
   ],
   "source": [
    "temperaturesByTime(razredi=razredi, filename='meteorological_year_ljubljana.csv',method=0)"
   ]
  },
  {
   "cell_type": "code",
   "execution_count": 75,
   "metadata": {},
   "outputs": [
    {
     "data": {
      "text/plain": [
       "[8760]"
      ]
     },
     "execution_count": 75,
     "metadata": {},
     "output_type": "execute_result"
    }
   ],
   "source": [
    "temperaturesByTime( filename='meteorological_year_ljubljana.csv')"
   ]
  },
  {
   "cell_type": "markdown",
   "metadata": {},
   "source": [
    "Prikažemo lahko povprečne dnevne temperature. Rdeča črta prikazuje povprečno dnevno temperaturo."
   ]
  },
  {
   "cell_type": "code",
   "execution_count": 4,
   "metadata": {},
   "outputs": [
    {
     "data": {
      "image/png": "[encoded data removed]",
      "text/plain": [
       "<Figure size 432x288 with 1 Axes>"
      ]
     },
     "metadata": {
      "needs_background": "light"
     },
     "output_type": "display_data"
    }
   ],
   "source": [
    "# Create bars\n",
    "plt.bar(range(0,len(days)), days)\n",
    "# Add a horizontal line\n",
    "plt.axhline(y=thetaed, color='r')\n",
    "# Add axis titles\n",
    "plt.xlabel('Dnevi v letu', fontsize='13', horizontalalignment='center')\n",
    "plt.ylabel('Povprečna dnevna temperatura', fontsize='13', horizontalalignment='center')\n",
    "plt.title('Diagram povprečnih dnevnih temperatur', fontsize='13')\n",
    "# Add design\n",
    "plt.style.use('seaborn-white')\n",
    "# Show graphic\n",
    "plt.show()"
   ]
  },
  {
   "cell_type": "markdown",
   "metadata": {},
   "source": [
    "# Notranja projektna temperatura\n",
    "\n",
    "Določiti moramo notranjo projektno temperaturo. Za stanovanje je $\\theta_{i, ref}$: **20°C**"
   ]
  },
  {
   "cell_type": "code",
   "execution_count": 5,
   "metadata": {},
   "outputs": [],
   "source": [
    "thetairef = 20 #°C"
   ]
  },
  {
   "cell_type": "markdown",
   "metadata": {},
   "source": [
    "# Izračun potrebne toplotne moči toplotne črpalke\n",
    "\n",
    "Sedaj, ko smo določili vse robne temperaturne pogoje, lahko začnemo z izračunom toplotnih moči. Če želimo določiti moč toplotne črpalke $\\dot{Q}_{hp}$ moramo najprej določiti še toplotno moč potrebno za ogrevanje stavbe $\\dot{Q}_{h}$, toplotno moč za pripravo STV $\\dot{Q}_{stv}$ in moč drugih odjemov $\\dot{Q}_{dod}$\n",
    "\n",
    "Skupno moč tako določimo s sledečo enačbo, v kateri nastopi še korekcijski faktor akumulacije toplote:\n",
    "\n",
    "$$\\dot{Q}_{hp} =  \\dot{Q}_{hp} * f_{h} + \\dot{Q}_{stv} + \\dot{Q}_{dod}$$\n",
    "\n",
    "Preden določimo toplotno moč, moramo določiti vse člene zgornje enačbe.\n",
    "\n",
    "## Korekcijski faktor\n",
    "Izbran je korekcijski faktor $f_{h} = 0.93$ za opečnato stanovanjsko hišo iz 1970.\n",
    "\n"
   ]
  },
  {
   "cell_type": "code",
   "execution_count": 6,
   "metadata": {},
   "outputs": [],
   "source": [
    "fh = 0.93"
   ]
  },
  {
   "cell_type": "markdown",
   "metadata": {},
   "source": [
    "## Toplotna moč za ogrevanje stavbe\n",
    "Toplotno moč za ogrevanje stavbe $\\dot{Q}_{h}$ se izračuna kot seštevek transmisijskih, ventilacijskih in dodatnih toplotnih izgub:\n",
    "\n",
    "$$\\dot{Q}_{h} = \\dot{Q}_{t} + \\dot{Q}_{v}+ \\dot{Q}_{h,dod}$$\n",
    "\n",
    "\n",
    "### Transmisijske toplotne izgube in ventilacijske izgube\n",
    "Transmisijske toplotne izgube so bile določene s pomočjo programa Gradbena fizika URSA 4, v okviru predmeta Raba Energije. V naslednji sliki so prikazani izračunani koeficijenti transmisijskih in ventilacijskih toplotnih izgub $H_{t}$ in $H_{v}$.\n",
    "\n",
    "<img src=\"ursa_izracun.png\">\n",
    "\n",
    "Določimo lahko torej:\n",
    "\n",
    "$$ H_{t} = 257.6 W/K $$\n",
    "$$ H_{v} = 107.7 W/K $$\n",
    "$$ H = 365.3 W/K $$"
   ]
  },
  {
   "cell_type": "code",
   "execution_count": 33,
   "metadata": {},
   "outputs": [],
   "source": [
    "h = 365.3/1000 #kW/K"
   ]
  },
  {
   "cell_type": "markdown",
   "metadata": {},
   "source": [
    "Za določitev moči uporabimo enačbo:\n",
    "\n",
    "$$\\dot{Q}_{h} = H*(\\theta_{i,ref} - \\theta_{e,ref})$$"
   ]
  },
  {
   "cell_type": "code",
   "execution_count": 34,
   "metadata": {},
   "outputs": [
    {
     "name": "stdout",
     "output_type": "stream",
     "text": [
      "Toplotna moč za ogrevanje stavbe je: 12kW\n"
     ]
    }
   ],
   "source": [
    "dQh = h * (thetairef - thetaeref)\n",
    "print(f'Toplotna moč za ogrevanje stavbe je: {round(dQh)}kW')"
   ]
  },
  {
   "cell_type": "markdown",
   "metadata": {},
   "source": [
    "## Toplotna moč za pripravo sanitarne tople vode\n",
    "### Dnevna potrebna energija\n",
    "Sedaj moramo določiti še toplotno moč potrebno za pripravo STV. Predpostavimo da uporabljamo zalogovnik STV. V enačbi za določitev dnevne energije STV $Q_{stv}$ upoštevamo število uporabnikov $N$, poprečno uporabo STV na osebo $q$ in temperaturno razliko med zahtevano temperaturo STV $\\theta_{dp,ref}$ in temperaturo sveže dobavljene vode $\\theta_{cw}$:\n",
    "\n",
    "$$ Q_{stv} = 0.00116 *N*q*(\\theta_{dp,ref}-\\theta_{cw})$$\n",
    "\n",
    "Ker se pri izračunu gre za stanovansjko poslopje je izbran $q = 60 L/ (oseba*dan)$"
   ]
  },
  {
   "cell_type": "code",
   "execution_count": 9,
   "metadata": {},
   "outputs": [],
   "source": [
    "q = 25 # L/oseba*dan"
   ]
  },
  {
   "cell_type": "markdown",
   "metadata": {},
   "source": [
    "Izbrati moramo še željeno temperaturo STV $\\theta_{dp,ref}$, standardna je $60°C$, zato bomo to izbrali tudi mi, ter temperaturo hladne vode v omrežju $\\theta_{cw}$, ki je izbrana na $12°C$\n",
    "\n",
    "V poslopju sta dve gospodinjstvi, skupno pa trenutno v poslopju stanuje 5 oseb. Torej: $N=5$."
   ]
  },
  {
   "cell_type": "code",
   "execution_count": 10,
   "metadata": {},
   "outputs": [],
   "source": [
    "thetacw = 12 #°C\n",
    "thetadpref = 60 #°C\n",
    "N = 5 #število oseb"
   ]
  },
  {
   "cell_type": "markdown",
   "metadata": {},
   "source": [
    "Sedaj lahko izračunamo dnevno energijo za STV."
   ]
  },
  {
   "cell_type": "code",
   "execution_count": 11,
   "metadata": {},
   "outputs": [
    {
     "name": "stdout",
     "output_type": "stream",
     "text": [
      "Dnevna energija potrebna za ogrevanje STV je: 7.0\n"
     ]
    }
   ],
   "source": [
    "Qstv = 0.00116 * N * q * (thetadpref-thetacw)\n",
    "print(f'Dnevna energija potrebna za ogrevanje STV je: {round(Qstv,0)}')"
   ]
  },
  {
   "cell_type": "markdown",
   "metadata": {},
   "source": [
    "Iz energije lahko moč določimo s sledečo enačbo:\n",
    "$$\\dot{Q}_{stv} = \\frac{Q_{stv}}{t_{stv}}*f_{stv}$$\n",
    "\n",
    "Za $f_{stv}$ uporabimo vrednost 1.21\n",
    "Čas ogrevanja STV pa izberemo da je 4 ure. $t_{stv}=4ure$"
   ]
  },
  {
   "cell_type": "code",
   "execution_count": 12,
   "metadata": {},
   "outputs": [
    {
     "name": "stdout",
     "output_type": "stream",
     "text": [
      "Potrebna moč za zagotavljanje nemotene oskrbe STV je 2.0 kW\n"
     ]
    }
   ],
   "source": [
    "fstv = 1.21\n",
    "tstv = 4 #ure\n",
    "dQstv = Qstv/tstv*fstv\n",
    "print(f'Potrebna moč za zagotavljanje nemotene oskrbe STV je {round(dQstv,0)} kW')"
   ]
  },
  {
   "cell_type": "markdown",
   "metadata": {},
   "source": [
    "### Velikost hranilnika STV\n",
    "Najprej moramo določiti volumen vode, ki zadošča pokrivanju dnevne porabe STV, nato pa je potrebno upoštevati še dnevne toplotne izgube hranilnika STV.\n",
    "\n",
    "Enačba ki popisuje potrebno velikost volumna vode je sledeča. V njej nastopa, poleg do sedaj že definiranih spremenljivk še dnevne toplotne izgube hranilnika $Q_{1,s}$ in učinkovitost volumna hranilnika, ki v povprečju znaša $\\eta_{s} = 0.8$.\n",
    "\n",
    "Sicer je $Q_{1,s}$ odvisen od velikosti volumna vendar, ker bomo zalogovnik izbrali iz kataloga, in ker drugi člen predstavlja veliko manjši del kot prvi, se lahko izračunu z diferencialno enačbo izognemo, ter minimalni volumen določimo le s prvim členom, drugega pa nato upoštevamo pri določitvi minimalnega volumna. \n",
    "$$V_{dp,ref}=\\frac{860*(\\dot{Q}_{stv}*t_{stv})}{(\\theta_{dp,ref}-\\theta_{cw})*\\eta_{s}}+\\frac{Q_{1,s}}{0.00116*(\\theta_{dp,ref}-\\theta_{cw})}$$"
   ]
  },
  {
   "cell_type": "code",
   "execution_count": 13,
   "metadata": {},
   "outputs": [
    {
     "name": "stdout",
     "output_type": "stream",
     "text": [
      "Preliminarni volumen hranilnika znaša 189.0L\n"
     ]
    }
   ],
   "source": [
    "etas = 0.8\n",
    "Vdpref1 = (860*dQstv*tstv)/((thetadpref-thetacw)*etas)\n",
    "print(f'Preliminarni volumen hranilnika znaša {round(Vdpref1,0)}L')"
   ]
  },
  {
   "cell_type": "markdown",
   "metadata": {},
   "source": [
    "Sedaj lahko iz preliminarnega volumna določimo še toplotne izgube in jih upoštevamo v celotnem izračunu.\n",
    "\n",
    "<img src=\"izgubevstv.png\">\n",
    "\n",
    "Pri preliminarnem volumnu 450L znaša dnevna izgubljena energija približno 3.2 kWh"
   ]
  },
  {
   "cell_type": "code",
   "execution_count": 14,
   "metadata": {},
   "outputs": [
    {
     "name": "stdout",
     "output_type": "stream",
     "text": [
      "Volumen hranilnika znaša 216.0L\n"
     ]
    }
   ],
   "source": [
    "Q1s = 1.5 #kWh/dan\n",
    "Vdpref2 = Vdpref1 + Q1s/(0.00116 * (thetadpref-thetacw))\n",
    "print(f'Volumen hranilnika znaša {round(Vdpref2,0)}L')"
   ]
  },
  {
   "cell_type": "markdown",
   "metadata": {},
   "source": [
    "### Izbor hranilnika iz kataloga\n",
    "V KRONOTERM katalogu je za izbrano ADAPT 0416 enoto na voljo 200 litrski hranilnik. Pri gospodarni rabi STV bo le-ta zadostoval. $V_{s}=200L$.\n",
    "\n",
    "<img src=\"notranjaenota.png\">"
   ]
  },
  {
   "cell_type": "code",
   "execution_count": 15,
   "metadata": {},
   "outputs": [],
   "source": [
    "Vs = 200 #L"
   ]
  },
  {
   "cell_type": "markdown",
   "metadata": {},
   "source": [
    "Na podlagi izbranega volumna lahko določimo dejansko potrebno moč toplotne črpalke po naslednji enačbi:\n",
    "\n",
    "$$\\dot{Q}_{stv,0set}=\\frac{V_{s}*0.00116*(\\theta_{set}-\\theta_{cw})}{t_{stw}}$$"
   ]
  },
  {
   "cell_type": "code",
   "execution_count": 16,
   "metadata": {},
   "outputs": [
    {
     "name": "stdout",
     "output_type": "stream",
     "text": [
      "Prava moč toplotne črpalke za dobavljanje STV znaša 3.0kW\n"
     ]
    }
   ],
   "source": [
    "dQstv0set = (Vs*0.00116*(thetadpref-thetacw))/tstv\n",
    "print(f'Prava moč toplotne črpalke za dobavljanje STV znaša {round(dQstv0set,0)}kW')"
   ]
  },
  {
   "cell_type": "markdown",
   "metadata": {},
   "source": [
    "## Skupna toplotna moč\n",
    "Sedaj lahko izračunamo še skupno toplotno moč, katero mora dosegati toplotna črpalka.\n",
    "\n",
    "-E---ENAČBA\n",
    "\n"
   ]
  },
  {
   "cell_type": "code",
   "execution_count": 17,
   "metadata": {},
   "outputs": [
    {
     "name": "stdout",
     "output_type": "stream",
     "text": [
      "Skupna toplotna moč znaša 14.0kW\n"
     ]
    }
   ],
   "source": [
    "dQhp = dQh * fh + dQstv0set\n",
    "print(f'Skupna toplotna moč znaša {round(dQhp,0)}kW')"
   ]
  },
  {
   "cell_type": "markdown",
   "metadata": {},
   "source": [
    "# Raba energije za delovanje toplotne črpalke\n",
    "\n",
    "## Toplotna energija za ogrevanje in pripravo STV\n",
    "### Toplotna energija za ogrevanje stavbe\n",
    "\n",
    "Potrebno toplotno energijo bomo določili po naslednji enačbi.\n",
    "Ker je površina južno obrnjenih oken majhna in ker je osenčenost v ogrevalni sezoni velika, se dobitke zaradi sončnega sevanja $Q_{sol,d}$ zanemari.\n",
    "\n",
    "Uporabimo enačbo:\n",
    "$$Q_{h,d}=\\dot{Q}_{h}*\\frac{\\theta_{i,ref}-\\theta_{e,d}}{\\theta_{i,ref}-\\theta_{e,ref}}*24-Q_{hg,d}$$\n",
    "\n",
    "Notranje toplotne dobitke $Q_{hg,d}$, ki predstavljajo oddajo naprav in ljudi pa določimo po povprečni vrednosti $4 W/m^{2}$"
   ]
  },
  {
   "cell_type": "code",
   "execution_count": 20,
   "metadata": {},
   "outputs": [
    {
     "name": "stdout",
     "output_type": "stream",
     "text": [
      "Skupni notranji toplotni dobitki znašajo 1.0kW\n"
     ]
    }
   ],
   "source": [
    "Qhgd = 4*181/1000\n",
    "print(f'Skupni notranji toplotni dobitki znašajo {round(Qhgd,0)}kW')"
   ]
  },
  {
   "cell_type": "code",
   "execution_count": 37,
   "metadata": {},
   "outputs": [
    {
     "data": {
      "text/plain": [
       "11.539840182648412"
      ]
     },
     "execution_count": 37,
     "metadata": {},
     "output_type": "execute_result"
    }
   ],
   "source": [
    "thetaed"
   ]
  },
  {
   "cell_type": "code",
   "execution_count": 43,
   "metadata": {},
   "outputs": [],
   "source": [
    "thetaed=1"
   ]
  },
  {
   "cell_type": "code",
   "execution_count": 44,
   "metadata": {},
   "outputs": [
    {
     "name": "stdout",
     "output_type": "stream",
     "text": [
      "Skupna dnevna raba energije za ogrevanje znaša 166.0kWh\n"
     ]
    }
   ],
   "source": [
    "\n",
    "Qhd = dQh*(thetairef-thetaed)/(thetairef-thetaeref)*24-Qhgd\n",
    "print(f'Skupna dnevna raba energije za ogrevanje znaša {round(Qhd,0)}kWh')"
   ]
  },
  {
   "cell_type": "markdown",
   "metadata": {},
   "source": [
    "### Toplotna energija za pripravo STV\n",
    "Potrebno toplotno energijo za pripravo STV se določi na osnovi že določene toplotne moči, z naslednjo enačbo:\n",
    "$$Q_{stv,d}=\\dot{Q}_{stv,0set}*t_{stv}$$"
   ]
  },
  {
   "cell_type": "code",
   "execution_count": 30,
   "metadata": {
    "scrolled": true
   },
   "outputs": [
    {
     "name": "stdout",
     "output_type": "stream",
     "text": [
      "Skupna dnevna raba energije za pripravo STV znaša 11.0kWh\n"
     ]
    }
   ],
   "source": [
    "Qstvd=dQstv0set*tstv\n",
    "print(f'Skupna dnevna raba energije za pripravo STV znaša {round(Qstvd,0)}kWh')"
   ]
  },
  {
   "cell_type": "markdown",
   "metadata": {},
   "source": [
    "## Temperatura izstopajoče ogrevane vode\n",
    "\n",
    "&&&&&&&&&&&&&&&&&&&&&&&& Manjka"
   ]
  },
  {
   "cell_type": "code",
   "execution_count": null,
   "metadata": {},
   "outputs": [],
   "source": []
  },
  {
   "cell_type": "markdown",
   "metadata": {},
   "source": [
    "## Čas delovanja toplotne črpalke\n"
   ]
  },
  {
   "cell_type": "code",
   "execution_count": 46,
   "metadata": {},
   "outputs": [],
   "source": [
    "dQhp = 9\n"
   ]
  },
  {
   "cell_type": "code",
   "execution_count": 47,
   "metadata": {},
   "outputs": [
    {
     "data": {
      "text/plain": [
       "19.665422222222226"
      ]
     },
     "execution_count": 47,
     "metadata": {},
     "output_type": "execute_result"
    }
   ],
   "source": [
    "tonhpd=Qhd/dQhp+Qstvd/dQhp\n",
    "tonhpd"
   ]
  },
  {
   "cell_type": "code",
   "execution_count": null,
   "metadata": {},
   "outputs": [],
   "source": []
  }
 ],
 "metadata": {
  "kernelspec": {
   "display_name": "Python 3",
   "language": "python",
   "name": "python3"
  },
  "language_info": {
   "codemirror_mode": {
    "name": "ipython",
    "version": 3
   },
   "file_extension": ".py",
   "mimetype": "text/x-python",
   "name": "python",
   "nbconvert_exporter": "python",
   "pygments_lexer": "ipython3",
   "version": "3.7.3"
  },
  "toc": {
   "base_numbering": 1,
   "nav_menu": {},
   "number_sections": true,
   "sideBar": true,
   "skip_h1_title": false,
   "title_cell": "Table of Contents",
   "title_sidebar": "Contents",
   "toc_cell": false,
   "toc_position": {},
   "toc_section_display": true,
   "toc_window_display": false
  }
 },
 "nbformat": 4,
 "nbformat_minor": 2
}
